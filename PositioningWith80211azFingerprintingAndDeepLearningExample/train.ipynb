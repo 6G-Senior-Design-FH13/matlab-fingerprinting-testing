{
 "cells": [
  {
   "cell_type": "code",
   "execution_count": 42,
   "id": "b9ae07a7-9241-40fe-bd45-013bd062aeea",
   "metadata": {},
   "outputs": [],
   "source": [
    "import numpy as np\n",
    "import scipy.io\n",
    "import matlab.engine\n",
    "import matplotlib.pyplot as plt"
   ]
  },
  {
   "cell_type": "code",
   "execution_count": 67,
   "id": "8d86e0d7-04fa-431b-b2ec-5374d2dbaf91",
   "metadata": {},
   "outputs": [],
   "source": [
    "import torch\n",
    "import torch.nn as nn\n",
    "import torch.nn.functional as F\n",
    "import torchvision\n",
    "import torchvision.transforms as transforms\n",
    "from torch.utils.data import TensorDataset, DataLoader\n",
    "from pathlib import Path"
   ]
  },
  {
   "cell_type": "markdown",
   "id": "f996643e-08b9-4441-9791-9e29639b0dc7",
   "metadata": {},
   "source": [
    "#### Load matlab data"
   ]
  },
  {
   "cell_type": "code",
   "execution_count": 33,
   "id": "597f8402-11a0-47c8-9e97-33cb19abc744",
   "metadata": {},
   "outputs": [],
   "source": [
    "feats = scipy.io.loadmat('features_out.mat')\n",
    "labels = scipy.io.loadmat('labels_out.mat')"
   ]
  },
  {
   "cell_type": "code",
   "execution_count": 34,
   "id": "1e07e4c9-3d3b-4641-8a65-839623c8be82",
   "metadata": {},
   "outputs": [],
   "source": [
    "feats = feats['features']\n",
    "labels = labels['position']"
   ]
  },
  {
   "cell_type": "code",
   "execution_count": 35,
   "id": "722c9274-8716-4a5d-b65d-b4f665596153",
   "metadata": {},
   "outputs": [
    {
     "data": {
      "text/plain": [
       "((48, 1, 1, 3), (3, 3))"
      ]
     },
     "execution_count": 35,
     "metadata": {},
     "output_type": "execute_result"
    }
   ],
   "source": [
    "feats.shape, labels.shape"
   ]
  },
  {
   "cell_type": "markdown",
   "id": "e033ff87-8f4e-4f76-9e95-ab52566b8859",
   "metadata": {},
   "source": [
    "#### Explanation of shape:\n",
    "\n",
    "This example uses the magnitude of each multipath component in the CIR as training data. Therefore, the generated CIRs are real-valued. The example stores the CIRs in a four-dimensional array of size N\n",
    "s\n",
    "-by-N\n",
    "tx-rx\n",
    "-by-N\n",
    "AP\n",
    "-by-N\n",
    "r\n",
    ".\n",
    "\n",
    "N\n",
    "s\n",
    " is the number of time-domain samples in the CIR.\n",
    "\n",
    "N\n",
    "tx-rx\n",
    " is the total number of transmit-receive antenna pairs.\n",
    "\n",
    "N\n",
    "AP\n",
    " is the number of APs.\n",
    "\n",
    "N\n",
    "r\n",
    " is the number of channel realizations for all SNR points.\n",
    "\n",
    "https://www.mathworks.com/help/wlan/ug/three-dimensional-indoor-positioning-with-802-11az-fingerprinting-and-deep-learning.html\n",
    "\n",
    "#### Problem: Labels shape should have at least one dimension that matches the number of time samples\n",
    "\n",
    "Going on the assumption that labels shape will be (time samples, num aps, 3). 3 for 3 dimensions for positioning."
   ]
  },
  {
   "cell_type": "code",
   "execution_count": 36,
   "id": "ed61a6f2-823a-4f85-917b-c8e7e1a6b108",
   "metadata": {},
   "outputs": [],
   "source": [
    "# TEMPORARY UNTIL WE FIX THE LABELS\n",
    "labels = np.random.random((feats.shape[0], 1))\n",
    "# might need to scale up the sample in case there aren't enough features"
   ]
  },
  {
   "cell_type": "code",
   "execution_count": 62,
   "id": "4a41f318-1a60-49df-aa03-0e3a70fcccd6",
   "metadata": {},
   "outputs": [],
   "source": [
    "X = torch.Tensor(feats)\n",
    "Y = torch.Tensor(labels)\n",
    "\n",
    "dataset = TensorDataset(X, Y)\n",
    "train_size = int(0.8 * len(dataset))\n",
    "test_size = len(dataset) - train_size\n",
    "train_dataset, test_dataset = torch.utils.data.random_split(dataset, [train_size, test_size])\n",
    "\n",
    "train_loader = DataLoader(train_dataset, batch_size=32, shuffle=True)\n",
    "test_loader = DataLoader(test_dataset, batch_size=32, shuffle=False)"
   ]
  },
  {
   "cell_type": "markdown",
   "id": "e06d19fa-4f93-4466-9439-b085664b0896",
   "metadata": {},
   "source": [
    "#### Define model"
   ]
  },
  {
   "cell_type": "code",
   "execution_count": 63,
   "id": "03cf0009-b224-4b40-a244-5803a0cef500",
   "metadata": {},
   "outputs": [],
   "source": [
    "class MyCNN(nn.Module):\n",
    "    def __init__(self):\n",
    "        super(MyCNN, self).__init__()\n",
    "        self.conv1 = nn.Conv2d(3, 64, kernel_size=3, stride=1, padding=1)\n",
    "        self.pool1 = nn.MaxPool2d(kernel_size=2, stride=2)\n",
    "        self.conv2 = nn.Conv2d(64, 128, kernel_size=3, stride=1, padding=1)\n",
    "        self.pool2 = nn.MaxPool2d(kernel_size=2, stride=2)\n",
    "        self.linear = nn.Linear(50, 1) # not 50, need to modify this\n",
    "    \n",
    "    def forward(self, x):\n",
    "        out = F.relu(self.conv1(x))\n",
    "        out = self.pool1(out)\n",
    "        out = F.relu(self.conv2(out))\n",
    "        out = self.pool2(out)\n",
    "        out = out.view(out.size(0), -1)\n",
    "        out = self.linear(out)\n",
    "        return out\n",
    "        "
   ]
  },
  {
   "cell_type": "code",
   "execution_count": 64,
   "id": "348fcabd-f549-4bd5-8e8e-8a995acec81b",
   "metadata": {},
   "outputs": [],
   "source": [
    "device = torch.device('cuda' if torch.cuda.is_available() else 'cpu')\n",
    "model = MyCNN().to(device)"
   ]
  },
  {
   "cell_type": "code",
   "execution_count": 65,
   "id": "45247b73-15e4-44a8-b4e8-e737dff343bb",
   "metadata": {},
   "outputs": [],
   "source": [
    "crit = nn.MSELoss()\n",
    "optimizer = torch.optim.SGD(model.parameters(), lr=0.01, momentum=0.9)"
   ]
  },
  {
   "cell_type": "markdown",
   "id": "b855d290-d4e8-4a60-ad2f-c23c10af4117",
   "metadata": {},
   "source": [
    "#### Training/Evaluating NN"
   ]
  },
  {
   "cell_type": "code",
   "execution_count": null,
   "id": "5ab6d8b7-884d-4d93-be50-8fe96ab82449",
   "metadata": {
    "tags": []
   },
   "outputs": [],
   "source": [
    "for epoch in range(10):\n",
    "    train_loss = 0\n",
    "    test_loss = 0\n",
    "\n",
    "    \n",
    "    model = model.train()\n",
    "    \n",
    "    for batch_idx, (ft, lbl) in enumerate(train_loader):\n",
    "        ft, lbl = ft.to(device), lbl.to(device)\n",
    "        optimizer.zero_grad()\n",
    "        output = model(ft)\n",
    "        loss = crit(output, lbl)\n",
    "        loss.backward()\n",
    "        optimizer.step()\n",
    "        train_loss += loss.item()\n",
    "        \n",
    "        \n",
    "    model = model.eval()\n",
    "    \n",
    "    with torch.no_grad():\n",
    "        for batch_idx, (ft, lbl) in enumerate(test_loader):\n",
    "            ft, lbl = ft.to(device), lbl.to(device)\n",
    "            output = model(ft)\n",
    "            loss = crit(output, lbl)\n",
    "            test_loss += loss\n",
    "            \n",
    "    print('Epoch {} | Training loss = {} | Test loss = {}'.format(epoch, train_loss, test_loss))"
   ]
  },
  {
   "cell_type": "code",
   "execution_count": 68,
   "id": "6c95018b-5f35-43fb-96b4-4289d5078dea",
   "metadata": {},
   "outputs": [],
   "source": [
    "# save model\n",
    "model_dir = Path('./models')\n",
    "model_dir.mkdir(parents=True, exist_ok=True)\n",
    "torch.save(model.state_dict(), model_dir / '6gcnn.pth')"
   ]
  }
 ],
 "metadata": {
  "kernelspec": {
   "display_name": "Python 3 (ipykernel)",
   "language": "python",
   "name": "python3"
  },
  "language_info": {
   "codemirror_mode": {
    "name": "ipython",
    "version": 3
   },
   "file_extension": ".py",
   "mimetype": "text/x-python",
   "name": "python",
   "nbconvert_exporter": "python",
   "pygments_lexer": "ipython3",
   "version": "3.9.10"
  }
 },
 "nbformat": 4,
 "nbformat_minor": 5
}
