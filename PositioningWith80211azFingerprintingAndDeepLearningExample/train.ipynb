{
 "cells": [
  {
   "cell_type": "code",
   "execution_count": 1,
   "id": "b9ae07a7-9241-40fe-bd45-013bd062aeea",
   "metadata": {},
   "outputs": [],
   "source": [
    "import numpy as np\n",
    "import scipy.io\n",
    "import matlab.engine\n",
    "import matplotlib.pyplot as plt\n",
    "import torch\n",
    "import torch.nn as nn\n",
    "import torch.nn.functional as F\n",
    "import torchvision\n",
    "import torchvision.transforms as transforms\n",
    "from torch.utils.data import TensorDataset, DataLoader\n",
    "from pathlib import Path"
   ]
  },
  {
   "cell_type": "markdown",
   "id": "f996643e-08b9-4441-9791-9e29639b0dc7",
   "metadata": {},
   "source": [
    "#### Load matlab data"
   ]
  },
  {
   "cell_type": "code",
   "execution_count": 8,
   "id": "597f8402-11a0-47c8-9e97-33cb19abc744",
   "metadata": {},
   "outputs": [],
   "source": [
    "feats = scipy.io.loadmat('output/featsCleaned.mat')\n",
    "labels = scipy.io.loadmat('output/labelsCleaned.mat')"
   ]
  },
  {
   "cell_type": "code",
   "execution_count": 9,
   "id": "1e07e4c9-3d3b-4641-8a65-839623c8be82",
   "metadata": {},
   "outputs": [],
   "source": [
    "feats = feats['featC'].T\n",
    "labels = labels['labelC'].T"
   ]
  },
  {
   "cell_type": "code",
   "execution_count": 11,
   "id": "722c9274-8716-4a5d-b65d-b4f665596153",
   "metadata": {},
   "outputs": [
    {
     "data": {
      "text/plain": [
       "((45695, 48), (45695, 3))"
      ]
     },
     "execution_count": 11,
     "metadata": {},
     "output_type": "execute_result"
    }
   ],
   "source": [
    "feats.shape, labels.shape"
   ]
  },
  {
   "cell_type": "markdown",
   "id": "e033ff87-8f4e-4f76-9e95-ab52566b8859",
   "metadata": {},
   "source": [
    "#### Explanation of shape:\n",
    "\n",
    "This example uses the magnitude of each multipath component in the CIR as training data. Therefore, the generated CIRs are real-valued. The example stores the CIRs in a four-dimensional array of size N\n",
    "s\n",
    "-by-N\n",
    "tx-rx\n",
    "-by-N\n",
    "AP\n",
    "-by-N\n",
    "r\n",
    ".\n",
    "\n",
    "N\n",
    "s\n",
    " is the number of time-domain samples in the CIR.\n",
    "\n",
    "N\n",
    "tx-rx\n",
    " is the total number of transmit-receive antenna pairs.\n",
    "\n",
    "N\n",
    "AP\n",
    " is the number of APs.\n",
    "\n",
    "N\n",
    "r\n",
    " is the number of channel realizations for all SNR points.\n",
    "\n",
    "https://www.mathworks.com/help/wlan/ug/three-dimensional-indoor-positioning-with-802-11az-fingerprinting-and-deep-learning.html\n",
    "\n",
    "#### Problem: Labels shape should have at least one dimension that matches the number of time samples\n",
    "\n",
    "Going on the assumption that labels shape will be (time samples, num aps, 3). 3 for 3 dimensions for positioning."
   ]
  },
  {
   "cell_type": "code",
   "execution_count": 17,
   "id": "ed61a6f2-823a-4f85-917b-c8e7e1a6b108",
   "metadata": {},
   "outputs": [],
   "source": [
    "# TEMPORARY UNTIL WE FIX THE LABELS\n",
    "# labels = np.random.random((feats.shape[0], 1))\n",
    "# might need to scale up the sample in case there aren't enough features"
   ]
  },
  {
   "cell_type": "code",
   "execution_count": 12,
   "id": "4a41f318-1a60-49df-aa03-0e3a70fcccd6",
   "metadata": {},
   "outputs": [],
   "source": [
    "X = torch.Tensor(feats)\n",
    "Y = torch.Tensor(labels)\n",
    "\n",
    "dataset = TensorDataset(X, Y)\n",
    "train_size = int(0.8 * len(dataset))\n",
    "test_size = len(dataset) - train_size\n",
    "train_dataset, test_dataset = torch.utils.data.random_split(dataset, [train_size, test_size])\n",
    "\n",
    "train_loader = DataLoader(train_dataset, batch_size=32, shuffle=True)\n",
    "test_loader = DataLoader(test_dataset, batch_size=32, shuffle=False)"
   ]
  },
  {
   "cell_type": "code",
   "execution_count": null,
   "id": "c198ce9a",
   "metadata": {},
   "outputs": [],
   "source": []
  },
  {
   "cell_type": "markdown",
   "id": "e06d19fa-4f93-4466-9439-b085664b0896",
   "metadata": {},
   "source": [
    "#### Define model"
   ]
  },
  {
   "cell_type": "code",
   "execution_count": 13,
   "id": "03cf0009-b224-4b40-a244-5803a0cef500",
   "metadata": {},
   "outputs": [],
   "source": [
    "class MyCNN(nn.Module):\n",
    "    def __init__(self):\n",
    "        super(MyCNN, self).__init__()\n",
    "        self.conv1 = nn.Conv2d(3, 64, kernel_size=3, stride=1, padding=1)\n",
    "        self.pool1 = nn.MaxPool2d(kernel_size=2, stride=2)\n",
    "        self.conv2 = nn.Conv2d(64, 128, kernel_size=3, stride=1, padding=1)\n",
    "        self.pool2 = nn.MaxPool2d(kernel_size=2, stride=2)\n",
    "        self.linear = nn.Linear(50, 1) # not 50, need to modify this\n",
    "    \n",
    "    def forward(self, x):\n",
    "        out = F.relu(self.conv1(x))\n",
    "        out = self.pool1(out)\n",
    "        out = F.relu(self.conv2(out))\n",
    "        out = self.pool2(out)\n",
    "        out = out.view(out.size(0), -1)\n",
    "        out = self.linear(out)\n",
    "        return out\n",
    "        \n",
    "class SimpleNN(nn.Module):\n",
    "    def __init__(self):\n",
    "        super(SimpleNN, self).__init__()\n",
    "        self.seq = nn.Sequential(\n",
    "            nn.Linear(48, 20),\n",
    "            nn.ReLU(),\n",
    "            # nn.BatchNorm1d(50),\n",
    "            \n",
    "            # nn.Linear(50, 20),\n",
    "            # nn.ReLU(),\n",
    "            # nn.BatchNorm1d(20),\n",
    "\n",
    "            # nn.Linear(20, 10),\n",
    "            # nn.ReLU(),\n",
    "            # nn.BatchNorm1d(10),\n",
    "\n",
    "            nn.Linear(20, 3) # x,y,z outputs\n",
    "        )\n",
    "    def forward(self, x):\n",
    "        return self.seq(x)"
   ]
  },
  {
   "cell_type": "code",
   "execution_count": 14,
   "id": "348fcabd-f549-4bd5-8e8e-8a995acec81b",
   "metadata": {},
   "outputs": [],
   "source": [
    "device = torch.device('cuda' if torch.cuda.is_available() else 'cpu')\n",
    "model = SimpleNN().to(device)"
   ]
  },
  {
   "cell_type": "code",
   "execution_count": 15,
   "id": "a1cd1d71",
   "metadata": {},
   "outputs": [
    {
     "data": {
      "text/plain": [
       "SimpleNN(\n",
       "  (seq): Sequential(\n",
       "    (0): Linear(in_features=48, out_features=20, bias=True)\n",
       "    (1): ReLU()\n",
       "    (2): Linear(in_features=20, out_features=3, bias=True)\n",
       "  )\n",
       ")"
      ]
     },
     "execution_count": 15,
     "metadata": {},
     "output_type": "execute_result"
    }
   ],
   "source": [
    "model"
   ]
  },
  {
   "cell_type": "code",
   "execution_count": 16,
   "id": "45247b73-15e4-44a8-b4e8-e737dff343bb",
   "metadata": {},
   "outputs": [],
   "source": [
    "# crit = nn.MSELoss()\n",
    "crit = nn.L1Loss()\n",
    "optimizer = torch.optim.SGD(model.parameters(), lr=0.01, momentum=0.9)"
   ]
  },
  {
   "cell_type": "markdown",
   "id": "b855d290-d4e8-4a60-ad2f-c23c10af4117",
   "metadata": {},
   "source": [
    "#### Training/Evaluating NN"
   ]
  },
  {
   "cell_type": "code",
   "execution_count": 17,
   "id": "5ab6d8b7-884d-4d93-be50-8fe96ab82449",
   "metadata": {
    "tags": []
   },
   "outputs": [
    {
     "name": "stdout",
     "output_type": "stream",
     "text": [
      "Epoch 0 | Training loss = 1290.6786665320396 | Test loss = 307.8357712626457\n",
      "Epoch 1 | Training loss = 1229.9668036699295 | Test loss = 305.54256588220596\n",
      "Epoch 2 | Training loss = 1220.748611330986 | Test loss = 304.0248764157295\n",
      "Epoch 3 | Training loss = 1218.8964341282845 | Test loss = 303.79519724845886\n",
      "Epoch 4 | Training loss = 1217.8936405181885 | Test loss = 303.48511415719986\n",
      "Epoch 5 | Training loss = 1217.897456228733 | Test loss = 303.47495740652084\n",
      "Epoch 6 | Training loss = 1217.3360913991928 | Test loss = 303.7830801606178\n",
      "Epoch 7 | Training loss = 1217.7523266077042 | Test loss = 303.1174183487892\n",
      "Epoch 8 | Training loss = 1216.3246551156044 | Test loss = 303.9525789618492\n",
      "Epoch 9 | Training loss = 1216.3725197315216 | Test loss = 303.187269449234\n",
      "Epoch 10 | Training loss = 1216.134094953537 | Test loss = 304.1640120148659\n",
      "Epoch 11 | Training loss = 1215.453907072544 | Test loss = 302.89801889657974\n",
      "Epoch 12 | Training loss = 1215.5631046295166 | Test loss = 303.6339381337166\n",
      "Epoch 13 | Training loss = 1214.575881421566 | Test loss = 304.52323031425476\n",
      "Epoch 14 | Training loss = 1214.080738902092 | Test loss = 302.64695477485657\n",
      "Epoch 15 | Training loss = 1212.9658198356628 | Test loss = 303.4978981614113\n",
      "Epoch 16 | Training loss = 1213.462334573269 | Test loss = 302.66102826595306\n",
      "Epoch 17 | Training loss = 1212.6812088489532 | Test loss = 302.8264420032501\n",
      "Epoch 18 | Training loss = 1212.2679401636124 | Test loss = 301.95207673311234\n",
      "Epoch 19 | Training loss = 1212.0503873229027 | Test loss = 302.3429671525955\n",
      "Epoch 20 | Training loss = 1211.4816920757294 | Test loss = 301.8849905729294\n",
      "Epoch 21 | Training loss = 1211.0548956990242 | Test loss = 302.8436799645424\n",
      "Epoch 22 | Training loss = 1210.322123169899 | Test loss = 301.572794675827\n",
      "Epoch 23 | Training loss = 1210.3896349072456 | Test loss = 301.7886546254158\n",
      "Epoch 24 | Training loss = 1209.7623398303986 | Test loss = 303.0689774751663\n",
      "Epoch 25 | Training loss = 1209.4788870811462 | Test loss = 301.42823284864426\n",
      "Epoch 26 | Training loss = 1209.0598825216293 | Test loss = 302.20212185382843\n",
      "Epoch 27 | Training loss = 1208.9869186282158 | Test loss = 300.9950273633003\n",
      "Epoch 28 | Training loss = 1209.2894151210785 | Test loss = 301.4104334115982\n",
      "Epoch 29 | Training loss = 1208.7306771278381 | Test loss = 302.4225522875786\n",
      "Epoch 30 | Training loss = 1208.118565917015 | Test loss = 301.46052700281143\n",
      "Epoch 31 | Training loss = 1208.7374758124352 | Test loss = 301.66374307870865\n",
      "Epoch 32 | Training loss = 1207.9381344914436 | Test loss = 301.01820373535156\n",
      "Epoch 33 | Training loss = 1207.8472234010696 | Test loss = 300.9962342977524\n",
      "Epoch 34 | Training loss = 1208.4663850069046 | Test loss = 302.4778916835785\n",
      "Epoch 35 | Training loss = 1207.9187061786652 | Test loss = 301.1162719130516\n",
      "Epoch 36 | Training loss = 1207.9091938138008 | Test loss = 301.6049622297287\n",
      "Epoch 37 | Training loss = 1208.183506011963 | Test loss = 300.90130174160004\n",
      "Epoch 38 | Training loss = 1208.119219839573 | Test loss = 301.8584711551666\n",
      "Epoch 39 | Training loss = 1207.7943586707115 | Test loss = 301.9438367486\n",
      "Epoch 40 | Training loss = 1207.8562571406364 | Test loss = 301.6270429491997\n",
      "Epoch 41 | Training loss = 1207.4783617854118 | Test loss = 300.7536050081253\n",
      "Epoch 42 | Training loss = 1207.804593384266 | Test loss = 300.7847378849983\n",
      "Epoch 43 | Training loss = 1207.3512216806412 | Test loss = 301.5922471880913\n",
      "Epoch 44 | Training loss = 1207.185931622982 | Test loss = 301.3230473995209\n",
      "Epoch 45 | Training loss = 1207.5587163567543 | Test loss = 300.84983146190643\n",
      "Epoch 46 | Training loss = 1207.6156717538834 | Test loss = 300.7309486269951\n",
      "Epoch 47 | Training loss = 1206.9052056074142 | Test loss = 300.662760078907\n",
      "Epoch 48 | Training loss = 1206.4753729104996 | Test loss = 300.50516080856323\n",
      "Epoch 49 | Training loss = 1205.9973614811897 | Test loss = 301.1577119231224\n",
      "Epoch 50 | Training loss = 1206.0318722724915 | Test loss = 300.49861764907837\n",
      "Epoch 51 | Training loss = 1205.519096493721 | Test loss = 300.39815628528595\n",
      "Epoch 52 | Training loss = 1204.9706647992134 | Test loss = 300.72647523880005\n",
      "Epoch 53 | Training loss = 1204.17223238945 | Test loss = 299.89954751729965\n",
      "Epoch 54 | Training loss = 1202.8882747292519 | Test loss = 299.7635423541069\n",
      "Epoch 55 | Training loss = 1202.674735069275 | Test loss = 299.86893433332443\n",
      "Epoch 56 | Training loss = 1200.3885496854782 | Test loss = 299.01700097322464\n",
      "Epoch 57 | Training loss = 1199.2856784462929 | Test loss = 300.76052808761597\n",
      "Epoch 58 | Training loss = 1198.3667365908623 | Test loss = 298.60442155599594\n",
      "Epoch 59 | Training loss = 1196.6594784259796 | Test loss = 297.93277448415756\n",
      "Epoch 60 | Training loss = 1195.7124497890472 | Test loss = 297.4239005446434\n",
      "Epoch 61 | Training loss = 1193.573277413845 | Test loss = 296.8539105653763\n",
      "Epoch 62 | Training loss = 1193.14499771595 | Test loss = 296.60043984651566\n",
      "Epoch 63 | Training loss = 1192.0372381210327 | Test loss = 296.4877563714981\n",
      "Epoch 64 | Training loss = 1190.6248669624329 | Test loss = 296.1661886572838\n",
      "Epoch 65 | Training loss = 1189.8533078432083 | Test loss = 295.74228727817535\n",
      "Epoch 66 | Training loss = 1188.5662698745728 | Test loss = 296.03644317388535\n",
      "Epoch 67 | Training loss = 1188.9398650527 | Test loss = 295.74776017665863\n",
      "Epoch 68 | Training loss = 1188.594417154789 | Test loss = 295.52424174547195\n",
      "Epoch 69 | Training loss = 1187.9605806469917 | Test loss = 296.20706182718277\n",
      "Epoch 70 | Training loss = 1187.0883637070656 | Test loss = 296.20777320861816\n",
      "Epoch 71 | Training loss = 1187.0271783471107 | Test loss = 295.0988703966141\n",
      "Epoch 72 | Training loss = 1187.5186205506325 | Test loss = 294.8898740410805\n",
      "Epoch 73 | Training loss = 1186.4534021615982 | Test loss = 294.72952926158905\n",
      "Epoch 74 | Training loss = 1186.4046662449837 | Test loss = 296.1393576860428\n",
      "Epoch 75 | Training loss = 1186.595305621624 | Test loss = 295.46996253728867\n",
      "Epoch 76 | Training loss = 1186.0128640532494 | Test loss = 294.8364444375038\n",
      "Epoch 77 | Training loss = 1186.25691062212 | Test loss = 294.46282678842545\n",
      "Epoch 78 | Training loss = 1185.3679569363594 | Test loss = 295.6756250858307\n",
      "Epoch 79 | Training loss = 1184.9878214001656 | Test loss = 294.9949322938919\n",
      "Epoch 80 | Training loss = 1185.396191060543 | Test loss = 295.9834257364273\n",
      "Epoch 81 | Training loss = 1185.316480755806 | Test loss = 294.8365114927292\n",
      "Epoch 82 | Training loss = 1184.6926173567772 | Test loss = 295.0878589749336\n",
      "Epoch 83 | Training loss = 1184.5484644770622 | Test loss = 294.5986454486847\n",
      "Epoch 84 | Training loss = 1184.452767252922 | Test loss = 295.0091090798378\n",
      "Epoch 85 | Training loss = 1184.2062917351723 | Test loss = 294.63217985630035\n",
      "Epoch 86 | Training loss = 1184.6631643772125 | Test loss = 294.45846658945084\n",
      "Epoch 87 | Training loss = 1183.9012036919594 | Test loss = 294.03682792186737\n",
      "Epoch 88 | Training loss = 1184.1398537158966 | Test loss = 294.8931639790535\n",
      "Epoch 89 | Training loss = 1183.426575422287 | Test loss = 294.5899111032486\n",
      "Epoch 90 | Training loss = 1183.2819828391075 | Test loss = 294.25593411922455\n",
      "Epoch 91 | Training loss = 1183.0469257831573 | Test loss = 294.5211201310158\n",
      "Epoch 92 | Training loss = 1183.864679634571 | Test loss = 295.41003930568695\n",
      "Epoch 93 | Training loss = 1183.7964594960213 | Test loss = 294.61629831790924\n",
      "Epoch 94 | Training loss = 1182.8842541575432 | Test loss = 294.39448112249374\n",
      "Epoch 95 | Training loss = 1182.5555619597435 | Test loss = 295.29866844415665\n",
      "Epoch 96 | Training loss = 1182.3546755313873 | Test loss = 293.76188439130783\n",
      "Epoch 97 | Training loss = 1182.3232026696205 | Test loss = 293.6800896525383\n",
      "Epoch 98 | Training loss = 1182.283854007721 | Test loss = 294.8853209614754\n",
      "Epoch 99 | Training loss = 1182.6673974394798 | Test loss = 294.20443695783615\n"
     ]
    }
   ],
   "source": [
    "num_epochs = 100\n",
    "loss_tracker = np.zeros((num_epochs, 2))\n",
    "\n",
    "for epoch in range(num_epochs):\n",
    "    train_loss = 0\n",
    "    test_loss = 0\n",
    "\n",
    "    \n",
    "    model = model.train()\n",
    "    \n",
    "    for batch_idx, (ft, lbl) in enumerate(train_loader):\n",
    "        ft, lbl = ft.to(device), lbl.to(device)\n",
    "        optimizer.zero_grad()\n",
    "        output = model(ft)\n",
    "        loss = crit(output, lbl)\n",
    "        loss.backward()\n",
    "        optimizer.step()\n",
    "        train_loss += loss.item()\n",
    "    loss_tracker[epoch, 0] = train_loss\n",
    "        \n",
    "        \n",
    "    model = model.eval()\n",
    "    \n",
    "    with torch.no_grad():\n",
    "        for batch_idx, (ft, lbl) in enumerate(test_loader):\n",
    "            ft, lbl = ft.to(device), lbl.to(device)\n",
    "            output = model(ft)\n",
    "            loss = crit(output, lbl)\n",
    "            test_loss += loss.item()\n",
    "    loss_tracker[epoch, 1] = test_loss\n",
    "            \n",
    "    print('Epoch {} | Training loss = {} | Test loss = {}'.format(epoch, train_loss, test_loss))"
   ]
  },
  {
   "cell_type": "code",
   "execution_count": 18,
   "id": "d5f333c6-a3e6-491a-b71c-d9ddae7c8b03",
   "metadata": {},
   "outputs": [
    {
     "data": {
      "image/png": "[encoded data removed]",
      "text/plain": [
       "<Figure size 432x288 with 1 Axes>"
      ]
     },
     "metadata": {
      "needs_background": "light"
     },
     "output_type": "display_data"
    }
   ],
   "source": [
    "plt.figure()\n",
    "plt.plot(loss_tracker)\n",
    "plt.title('Training vs Testing Loss')\n",
    "plt.legend(['Training loss', 'Test loss'])\n",
    "plt.xlabel('Epoch')\n",
    "plt.ylabel('Loss')\n",
    "plt.show()"
   ]
  },
  {
   "cell_type": "code",
   "execution_count": 19,
   "id": "6c95018b-5f35-43fb-96b4-4289d5078dea",
   "metadata": {},
   "outputs": [],
   "source": [
    "# save model\n",
    "model_dir = Path('./models')\n",
    "model_dir.mkdir(parents=True, exist_ok=True)\n",
    "torch.save(model.state_dict(), model_dir / '6gcnn.pth')"
   ]
  },
  {
   "cell_type": "code",
   "execution_count": null,
   "id": "b490ce7a",
   "metadata": {},
   "outputs": [],
   "source": []
  }
 ],
 "metadata": {
  "kernelspec": {
   "display_name": "Python 3 (ipykernel)",
   "language": "python",
   "name": "python3"
  },
  "language_info": {
   "codemirror_mode": {
    "name": "ipython",
    "version": 3
   },
   "file_extension": ".py",
   "mimetype": "text/x-python",
   "name": "python",
   "nbconvert_exporter": "python",
   "pygments_lexer": "ipython3",
   "version": "3.9.10"
  }
 },
 "nbformat": 4,
 "nbformat_minor": 5
}
